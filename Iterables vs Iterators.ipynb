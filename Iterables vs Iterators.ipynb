{
 "cells": [
  {
   "cell_type": "code",
   "execution_count": 1,
   "id": "1cd498f7",
   "metadata": {},
   "outputs": [
    {
     "name": "stdout",
     "output_type": "stream",
     "text": [
      "1\n",
      "2\n",
      "3\n",
      "4\n",
      "5\n",
      "6\n",
      "7\n",
      "8\n",
      "9\n"
     ]
    }
   ],
   "source": [
    "# list is iterable\n",
    "# \n",
    "\n",
    "lst=[1,2,3,4,5,6,7,8,9]\n",
    "\n",
    "for x in lst:\n",
    "    print(x)"
   ]
  },
  {
   "cell_type": "code",
   "execution_count": 2,
   "id": "9a38b2e5",
   "metadata": {},
   "outputs": [
    {
     "data": {
      "text/plain": [
       "<list_iterator at 0x22c7f453880>"
      ]
     },
     "execution_count": 2,
     "metadata": {},
     "output_type": "execute_result"
    }
   ],
   "source": [
    "iter(lst)    # iter is inbuilt function, used to iterate the item from the list."
   ]
  },
  {
   "cell_type": "raw",
   "id": "0ac00ed6",
   "metadata": {},
   "source": [
    "iter function only saves the iterated list in specific memory location. When call the next then next item gets itered."
   ]
  },
  {
   "cell_type": "code",
   "execution_count": 4,
   "id": "0f0e3394",
   "metadata": {},
   "outputs": [],
   "source": [
    "lst1=iter(lst)       "
   ]
  },
  {
   "cell_type": "code",
   "execution_count": 5,
   "id": "0309829a",
   "metadata": {},
   "outputs": [
    {
     "data": {
      "text/plain": [
       "<list_iterator at 0x22c7f56b9a0>"
      ]
     },
     "execution_count": 5,
     "metadata": {},
     "output_type": "execute_result"
    }
   ],
   "source": [
    "lst1             # this iter function also stored in different memory location."
   ]
  },
  {
   "cell_type": "code",
   "execution_count": 7,
   "id": "046b7b9e",
   "metadata": {},
   "outputs": [
    {
     "data": {
      "text/plain": [
       "1"
      ]
     },
     "execution_count": 7,
     "metadata": {},
     "output_type": "execute_result"
    }
   ],
   "source": [
    "next(lst1)    # to get the item from the list, it saves the each iteraated item in different memory location"
   ]
  },
  {
   "cell_type": "code",
   "execution_count": 9,
   "id": "2953b140",
   "metadata": {},
   "outputs": [
    {
     "data": {
      "text/plain": [
       "2"
      ]
     },
     "execution_count": 9,
     "metadata": {},
     "output_type": "execute_result"
    }
   ],
   "source": [
    "next(lst1)       # second item is stored in different memory location"
   ]
  },
  {
   "cell_type": "code",
   "execution_count": 10,
   "id": "51e0d48b",
   "metadata": {},
   "outputs": [
    {
     "data": {
      "text/plain": [
       "3"
      ]
     },
     "execution_count": 10,
     "metadata": {},
     "output_type": "execute_result"
    }
   ],
   "source": [
    "next(lst1)         # like this we can iterator can iter the specific item from the list in specific memmory location."
   ]
  },
  {
   "cell_type": "markdown",
   "id": "4aede851",
   "metadata": {},
   "source": [
    "The main function of the iterator is it will not stores the item single memory location, it stores every single item in different different memory location."
   ]
  },
  {
   "cell_type": "code",
   "execution_count": 12,
   "id": "b06ac7f0",
   "metadata": {},
   "outputs": [],
   "source": [
    "# iterables can scratch the item by using the for loop.\n",
    "# iterator also call the every item using for loop."
   ]
  },
  {
   "cell_type": "markdown",
   "id": "90b6d6e5",
   "metadata": {},
   "source": [
    "Whenever the list is having million elements, it requires the lots of memory to use the iterables. when we use the iterator, that the each element is used getting iterating whenever we call the iter function. so less memory can be used. \n",
    "And iterator also handles the StopIteration error itself in the for loop."
   ]
  },
  {
   "cell_type": "code",
   "execution_count": 17,
   "id": "c63fd5c6",
   "metadata": {},
   "outputs": [
    {
     "ename": "StopIteration",
     "evalue": "",
     "output_type": "error",
     "traceback": [
      "\u001b[1;31m---------------------------------------------------------------------------\u001b[0m",
      "\u001b[1;31mStopIteration\u001b[0m                             Traceback (most recent call last)",
      "Input \u001b[1;32mIn [17]\u001b[0m, in \u001b[0;36m<cell line: 1>\u001b[1;34m()\u001b[0m\n\u001b[1;32m----> 1\u001b[0m \u001b[38;5;28;43mnext\u001b[39;49m\u001b[43m(\u001b[49m\u001b[43mlst1\u001b[49m\u001b[43m)\u001b[49m\n",
      "\u001b[1;31mStopIteration\u001b[0m: "
     ]
    }
   ],
   "source": [
    "next(lst1)    # this exception is handled in for loop itself"
   ]
  },
  {
   "cell_type": "code",
   "execution_count": 16,
   "id": "fef750b1",
   "metadata": {},
   "outputs": [
    {
     "name": "stdout",
     "output_type": "stream",
     "text": [
      "4\n",
      "5\n",
      "6\n",
      "7\n",
      "8\n",
      "9\n"
     ]
    }
   ],
   "source": [
    "for i in lst1:\n",
    "    print(i)"
   ]
  },
  {
   "cell_type": "code",
   "execution_count": null,
   "id": "221ef1f4",
   "metadata": {},
   "outputs": [],
   "source": []
  }
 ],
 "metadata": {
  "kernelspec": {
   "display_name": "Python 3 (ipykernel)",
   "language": "python",
   "name": "python3"
  },
  "language_info": {
   "codemirror_mode": {
    "name": "ipython",
    "version": 3
   },
   "file_extension": ".py",
   "mimetype": "text/x-python",
   "name": "python",
   "nbconvert_exporter": "python",
   "pygments_lexer": "ipython3",
   "version": "3.9.12"
  }
 },
 "nbformat": 4,
 "nbformat_minor": 5
}
